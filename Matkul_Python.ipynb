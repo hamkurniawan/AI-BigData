{
  "nbformat": 4,
  "nbformat_minor": 0,
  "metadata": {
    "colab": {
      "provenance": [],
      "collapsed_sections": [
        "DbXUlvEzjard",
        "TFdX1Ih-jfyW"
      ]
    },
    "kernelspec": {
      "name": "python3",
      "display_name": "Python 3"
    },
    "language_info": {
      "name": "python"
    }
  },
  "cells": [
    {
      "cell_type": "markdown",
      "source": [
        "# Python\n"
      ],
      "metadata": {
        "id": "g-VqilSYiPSG"
      }
    },
    {
      "cell_type": "markdown",
      "source": [
        "# Minggu 2"
      ],
      "metadata": {
        "id": "DbXUlvEzjard"
      }
    },
    {
      "cell_type": "code",
      "source": [
        "t='halo'\n",
        "b=6\n",
        "f=1.2\n",
        "m=[1,2, 'tel-u']\n",
        "\n",
        "print (f)"
      ],
      "metadata": {
        "colab": {
          "base_uri": "https://localhost:8080/"
        },
        "id": "mDfdD4SfjCPd",
        "outputId": "0f92dc68-16b4-4596-e38f-f3c2ef60cca5"
      },
      "execution_count": null,
      "outputs": [
        {
          "output_type": "stream",
          "name": "stdout",
          "text": [
            "1.2\n"
          ]
        }
      ]
    },
    {
      "cell_type": "code",
      "execution_count": null,
      "metadata": {
        "colab": {
          "base_uri": "https://localhost:8080/"
        },
        "id": "6UtbEceGiGa8",
        "outputId": "85eccc42-9ff8-4bdc-aeee-30388abc90de"
      },
      "outputs": [
        {
          "output_type": "stream",
          "name": "stdout",
          "text": [
            "Hola 6\n"
          ]
        }
      ],
      "source": [
        "text=\"Hola\"\n",
        "nama=\"ilham\"\n",
        "Bulat=6\n",
        "Pecah=5.5\n",
        "Multi=[4,5, 'Brian']\n",
        "\n",
        "print (text+\" \"+str(Bulat))"
      ]
    },
    {
      "cell_type": "code",
      "source": [
        "var1, var2, var3=5,6,'guru'\n",
        "print (var1)\n",
        "print (var2)\n",
        "print (var3)"
      ],
      "metadata": {
        "colab": {
          "base_uri": "https://localhost:8080/"
        },
        "id": "DbWsXLcvk4LW",
        "outputId": "9ac32b21-0295-4076-eaec-be51a49f7d59"
      },
      "execution_count": null,
      "outputs": [
        {
          "output_type": "stream",
          "name": "stdout",
          "text": [
            "5\n",
            "6\n",
            "guru\n"
          ]
        }
      ]
    },
    {
      "cell_type": "code",
      "source": [
        "#5+10\n",
        "'''\n",
        "var1=5\n",
        "var2=11\n",
        "var_t=var1+var2\n",
        "print (var_t)\n",
        "'''\n",
        "'''\n",
        "var1=5\n",
        "var2=11\n",
        "var_t=var1-var2\n",
        "print (var_t)\n",
        "'''\n",
        "var1=11\n",
        "var2=2\n",
        "var_t=var1%var2\n",
        "print (var_t)"
      ],
      "metadata": {
        "colab": {
          "base_uri": "https://localhost:8080/"
        },
        "id": "jpGhQFSKmGrL",
        "outputId": "3b135f7f-622c-43be-e699-247a60c30882"
      },
      "execution_count": null,
      "outputs": [
        {
          "output_type": "stream",
          "name": "stdout",
          "text": [
            "1\n"
          ]
        }
      ]
    },
    {
      "cell_type": "code",
      "source": [
        "Operator Perbandingan"
      ],
      "metadata": {
        "id": "Yuxq7uSNoNAE"
      },
      "execution_count": null,
      "outputs": []
    },
    {
      "cell_type": "code",
      "source": [
        "var1, var2 =2,3\n",
        "print (var1==var2)"
      ],
      "metadata": {
        "colab": {
          "base_uri": "https://localhost:8080/"
        },
        "id": "MWVOTEJ8oQVF",
        "outputId": "32e152cb-1349-413b-d8cc-454755442c26"
      },
      "execution_count": null,
      "outputs": [
        {
          "output_type": "stream",
          "name": "stdout",
          "text": [
            "False\n"
          ]
        }
      ]
    },
    {
      "cell_type": "code",
      "source": [
        "Operator logika"
      ],
      "metadata": {
        "id": "I0jRNarWpH1Q"
      },
      "execution_count": null,
      "outputs": []
    },
    {
      "cell_type": "code",
      "source": [
        "'''\n",
        "var1=True\n",
        "var2=True\n",
        "var3=False\n",
        "print(var1 and var2)\n",
        "print(var3 and var2)\n",
        "'''\n",
        "\n",
        "var1=True\n",
        "var2=True\n",
        "var3=False\n",
        "print(not var2)\n",
        "print(not var3)"
      ],
      "metadata": {
        "colab": {
          "base_uri": "https://localhost:8080/"
        },
        "id": "6XCOChfvpKfi",
        "outputId": "bd54063a-0e4a-4e25-a185-bb358e0030e0"
      },
      "execution_count": null,
      "outputs": [
        {
          "output_type": "stream",
          "name": "stdout",
          "text": [
            "False\n",
            "True\n"
          ]
        }
      ]
    },
    {
      "cell_type": "code",
      "source": [
        "Tipe data dan konversi"
      ],
      "metadata": {
        "id": "j3-A6WKvqSHC"
      },
      "execution_count": null,
      "outputs": []
    },
    {
      "cell_type": "code",
      "source": [
        "var1='Ilham'\n",
        "print (var1,'dengan tipe:', type (var1))"
      ],
      "metadata": {
        "colab": {
          "base_uri": "https://localhost:8080/"
        },
        "id": "8MlnRowrqjPX",
        "outputId": "bd09c2f2-f634-489f-d974-f5ada15c8409"
      },
      "execution_count": null,
      "outputs": [
        {
          "output_type": "stream",
          "name": "stdout",
          "text": [
            "Ilham dengan tipe: <class 'str'>\n"
          ]
        }
      ]
    },
    {
      "cell_type": "code",
      "source": [
        "var1=6.5\n",
        "print (var1,'dengan tipe:', type (var1))"
      ],
      "metadata": {
        "colab": {
          "base_uri": "https://localhost:8080/"
        },
        "id": "aLyNeyYurl7l",
        "outputId": "fab0842f-2867-4215-cfae-e7fbf0089845"
      },
      "execution_count": null,
      "outputs": [
        {
          "output_type": "stream",
          "name": "stdout",
          "text": [
            "6.5 dengan tipe: <class 'float'>\n"
          ]
        }
      ]
    },
    {
      "cell_type": "code",
      "source": [
        "print (\"nilai 22/7 adalah {:.3f}\".format(22/7))"
      ],
      "metadata": {
        "colab": {
          "base_uri": "https://localhost:8080/"
        },
        "id": "65FKFY9MsWPy",
        "outputId": "255e9de9-a4e6-4f45-b0e9-96186b9b88eb"
      },
      "execution_count": null,
      "outputs": [
        {
          "output_type": "stream",
          "name": "stdout",
          "text": [
            "nilai 22/7 adalah 3.143\n"
          ]
        }
      ]
    },
    {
      "cell_type": "code",
      "source": [
        "sekawan =[\"jo\",\"fik\",\"ham\"]\n",
        "print(sekawan)"
      ],
      "metadata": {
        "colab": {
          "base_uri": "https://localhost:8080/"
        },
        "id": "zkBtJnGju0ER",
        "outputId": "794c56b7-dab8-4761-bb9b-1f1667fdf748"
      },
      "execution_count": null,
      "outputs": [
        {
          "output_type": "stream",
          "name": "stdout",
          "text": [
            "['jo', 'fik', 'ham']\n"
          ]
        }
      ]
    },
    {
      "cell_type": "code",
      "source": [
        "print (sekawan[0])\n",
        "print (sekawan[1])\n",
        "print (sekawan[2])"
      ],
      "metadata": {
        "colab": {
          "base_uri": "https://localhost:8080/"
        },
        "id": "GIb4oojgvnGY",
        "outputId": "98086559-4d51-426d-def9-1b7004a82e7f"
      },
      "execution_count": null,
      "outputs": [
        {
          "output_type": "stream",
          "name": "stdout",
          "text": [
            "jo\n",
            "fik\n",
            "ham\n"
          ]
        }
      ]
    },
    {
      "cell_type": "code",
      "source": [
        "sekawan.remove(sekawan[1])\n",
        "print (sekawan)"
      ],
      "metadata": {
        "colab": {
          "base_uri": "https://localhost:8080/"
        },
        "id": "KS_Ua_ZKxaRc",
        "outputId": "879a831f-d28c-4a98-d4c4-af788047950d"
      },
      "execution_count": null,
      "outputs": [
        {
          "output_type": "stream",
          "name": "stdout",
          "text": [
            "['jo', 'ham']\n"
          ]
        }
      ]
    },
    {
      "cell_type": "markdown",
      "source": [
        "# Minggu 3\n"
      ],
      "metadata": {
        "id": "TFdX1Ih-jfyW"
      }
    },
    {
      "cell_type": "code",
      "source": [
        "sekawan =[\"jo\",\"fik\",\"ham\"]\n",
        "print(sekawan)"
      ],
      "metadata": {
        "colab": {
          "base_uri": "https://localhost:8080/"
        },
        "id": "9bZu1m-7jlGH",
        "outputId": "0434ba9f-ac10-4b69-c549-a6cf0e027fcf"
      },
      "execution_count": null,
      "outputs": [
        {
          "output_type": "stream",
          "name": "stdout",
          "text": [
            "['jo', 'fik', 'ham']\n"
          ]
        }
      ]
    },
    {
      "cell_type": "code",
      "source": [
        "sekawan.append[\"mar\"]\n",
        "print (sekawan)"
      ],
      "metadata": {
        "colab": {
          "base_uri": "https://localhost:8080/",
          "height": 183
        },
        "id": "zOpaBsP0mMbA",
        "outputId": "047609b5-00b5-40a8-fdb4-e7742c9eb2b4"
      },
      "execution_count": null,
      "outputs": [
        {
          "output_type": "error",
          "ename": "TypeError",
          "evalue": "ignored",
          "traceback": [
            "\u001b[0;31m---------------------------------------------------------------------------\u001b[0m",
            "\u001b[0;31mTypeError\u001b[0m                                 Traceback (most recent call last)",
            "\u001b[0;32m<ipython-input-32-67983ddc89f5>\u001b[0m in \u001b[0;36m<module>\u001b[0;34m\u001b[0m\n\u001b[0;32m----> 1\u001b[0;31m \u001b[0msekawan\u001b[0m\u001b[0;34m.\u001b[0m\u001b[0mappend\u001b[0m\u001b[0;34m[\u001b[0m\u001b[0;34m\"mar\"\u001b[0m\u001b[0;34m]\u001b[0m\u001b[0;34m\u001b[0m\u001b[0;34m\u001b[0m\u001b[0m\n\u001b[0m\u001b[1;32m      2\u001b[0m \u001b[0mprint\u001b[0m \u001b[0;34m(\u001b[0m\u001b[0msekawan\u001b[0m\u001b[0;34m)\u001b[0m\u001b[0;34m\u001b[0m\u001b[0;34m\u001b[0m\u001b[0m\n",
            "\u001b[0;31mTypeError\u001b[0m: 'builtin_function_or_method' object is not subscriptable"
          ]
        }
      ]
    },
    {
      "cell_type": "code",
      "source": [
        "sekawan =(\"jo\",\"fik\",\"ham\", \"mar\", \"sem\")\n",
        "print(sekawan)"
      ],
      "metadata": {
        "colab": {
          "base_uri": "https://localhost:8080/"
        },
        "id": "PXA2EINinF8o",
        "outputId": "5e0e8b32-bf86-4e8b-d821-f94ae05171be"
      },
      "execution_count": null,
      "outputs": [
        {
          "output_type": "stream",
          "name": "stdout",
          "text": [
            "('jo', 'fik', 'ham', 'mar', 'sem')\n"
          ]
        }
      ]
    },
    {
      "cell_type": "code",
      "source": [
        "Hewan={\"Reptil\": [\"buaya\", \"aligator\",\"ular\", \"kadal\", \"kura kura\"],\n",
        "       \"Mamalia\": [\"kanguru\", \"gajah\", \"sapi\", \"baboon\", \"kelinci\"],\n",
        "       }\n",
        "print (Hewan)"
      ],
      "metadata": {
        "colab": {
          "base_uri": "https://localhost:8080/"
        },
        "id": "HhJjy20zocHY",
        "outputId": "3afc3fbe-2b70-44fb-fee0-693749ec96ce"
      },
      "execution_count": null,
      "outputs": [
        {
          "output_type": "stream",
          "name": "stdout",
          "text": [
            "{'Reptil': ['buaya', 'aligator', 'ular', 'kadal', 'kura kura'], 'Mamalia': ['kanguru', 'gajah', 'sapi', 'baboon', 'kelinci']}\n"
          ]
        }
      ]
    },
    {
      "cell_type": "code",
      "source": [
        "type (Hewan)"
      ],
      "metadata": {
        "colab": {
          "base_uri": "https://localhost:8080/"
        },
        "id": "YvSOdJ3-p9JV",
        "outputId": "575fd4ff-fbe7-4cfc-fecc-dc6161d6c601"
      },
      "execution_count": null,
      "outputs": [
        {
          "output_type": "execute_result",
          "data": {
            "text/plain": [
              "dict"
            ]
          },
          "metadata": {},
          "execution_count": 23
        }
      ]
    },
    {
      "cell_type": "code",
      "source": [
        "len (Hewan)"
      ],
      "metadata": {
        "colab": {
          "base_uri": "https://localhost:8080/"
        },
        "id": "LSDSZao2qEz0",
        "outputId": "760e2571-726f-44d8-adc2-31af61e219bb"
      },
      "execution_count": null,
      "outputs": [
        {
          "output_type": "execute_result",
          "data": {
            "text/plain": [
              "2"
            ]
          },
          "metadata": {},
          "execution_count": 24
        }
      ]
    },
    {
      "cell_type": "code",
      "source": [
        "len (Hewan[\"Reptil\"])"
      ],
      "metadata": {
        "colab": {
          "base_uri": "https://localhost:8080/"
        },
        "id": "GyNTAiPmqK2j",
        "outputId": "0d99b6cb-4ec5-47c7-ef66-ae4b63d95ec2"
      },
      "execution_count": null,
      "outputs": [
        {
          "output_type": "execute_result",
          "data": {
            "text/plain": [
              "5"
            ]
          },
          "metadata": {},
          "execution_count": 25
        }
      ]
    },
    {
      "cell_type": "code",
      "source": [
        "print (Hewan[\"Reptil\"])\n",
        "print (Hewan[\"Mamalia\"])"
      ],
      "metadata": {
        "colab": {
          "base_uri": "https://localhost:8080/"
        },
        "id": "9N6AKm9Uqh7A",
        "outputId": "e5d05b7a-b466-4b9a-df96-14283a8d81ff"
      },
      "execution_count": null,
      "outputs": [
        {
          "output_type": "stream",
          "name": "stdout",
          "text": [
            "['buaya', 'aligator', 'ular', 'kadal', 'kura kura']\n",
            "['kanguru', 'gajah', 'sapi', 'baboon', 'kelinci']\n"
          ]
        }
      ]
    },
    {
      "cell_type": "code",
      "source": [
        "Hewan[\"Mamalia\"][2]"
      ],
      "metadata": {
        "colab": {
          "base_uri": "https://localhost:8080/",
          "height": 35
        },
        "id": "oGXCpGKlrvQA",
        "outputId": "9f3ceafa-dcaf-4c26-c4cd-de2562d7cc00"
      },
      "execution_count": null,
      "outputs": [
        {
          "output_type": "execute_result",
          "data": {
            "text/plain": [
              "'sapi'"
            ],
            "application/vnd.google.colaboratory.intrinsic+json": {
              "type": "string"
            }
          },
          "metadata": {},
          "execution_count": 27
        }
      ]
    },
    {
      "cell_type": "code",
      "source": [
        "Hewan[\"Mamalia\"].remove(Hewan[\"Mamalia\"][3])\n",
        "print (Hewan[\"Mamalia\"])"
      ],
      "metadata": {
        "colab": {
          "base_uri": "https://localhost:8080/"
        },
        "id": "C16u5stUsA2h",
        "outputId": "100795ee-342c-476a-a40e-0d3ebb145145"
      },
      "execution_count": null,
      "outputs": [
        {
          "output_type": "stream",
          "name": "stdout",
          "text": [
            "['kanguru', 'gajah', 'sapi', 'kelinci']\n"
          ]
        }
      ]
    },
    {
      "cell_type": "code",
      "source": [
        "Hewan[\"Unggas\"]=[\"ayam,\"]\n",
        "print (Hewan)"
      ],
      "metadata": {
        "colab": {
          "base_uri": "https://localhost:8080/"
        },
        "id": "fI1zqIMwtZu4",
        "outputId": "4a92d67c-1f2c-4963-9ce7-15e8d6938e6a"
      },
      "execution_count": null,
      "outputs": [
        {
          "output_type": "stream",
          "name": "stdout",
          "text": [
            "{'Reptil': ['buaya', 'aligator', 'ular', 'kadal', 'kura kura'], 'Mamalia': ['kanguru', 'gajah', 'sapi', 'kelinci'], 'Unggas': ['ayam,']}\n"
          ]
        }
      ]
    },
    {
      "cell_type": "code",
      "source": [
        "len(Hewan)"
      ],
      "metadata": {
        "colab": {
          "base_uri": "https://localhost:8080/"
        },
        "id": "gALWnu9zuJ_r",
        "outputId": "940a817e-84d6-43e4-85a4-5d4e19e02251"
      },
      "execution_count": null,
      "outputs": [
        {
          "output_type": "execute_result",
          "data": {
            "text/plain": [
              "3"
            ]
          },
          "metadata": {},
          "execution_count": 30
        }
      ]
    },
    {
      "cell_type": "code",
      "source": [
        "Hewan[\"Unggas\"]=[\"ayam,2\"]\n",
        "Hewan.update({\"unggas\":100})\n",
        "\n",
        "\n",
        "print (Hewan)"
      ],
      "metadata": {
        "colab": {
          "base_uri": "https://localhost:8080/"
        },
        "id": "RL0m9F-LuRMn",
        "outputId": "35e981f0-0dbd-4041-9135-b953941d6da6"
      },
      "execution_count": null,
      "outputs": [
        {
          "output_type": "stream",
          "name": "stdout",
          "text": [
            "{'Reptil': ['buaya', 'aligator', 'ular', 'kadal', 'kura kura'], 'Mamalia': ['kanguru', 'gajah', 'sapi', 'kelinci'], 'Unggas': ['ayam,2'], 'unggas': 100}\n"
          ]
        }
      ]
    },
    {
      "cell_type": "markdown",
      "source": [
        "# Quis\n",
        "\n"
      ],
      "metadata": {
        "id": "GTwZc9YolnJd"
      }
    },
    {
      "cell_type": "code",
      "source": [
        "Nama_Burung=['Beo', 'Cendrawasih', 'Betet', 'Jalak', 'Gagak']\n",
        "\n",
        "print (Nama_Burung)\n"
      ],
      "metadata": {
        "colab": {
          "base_uri": "https://localhost:8080/"
        },
        "id": "JtjgV_3SlrOx",
        "outputId": "efbcf744-59ca-457d-876b-9009afe842ea"
      },
      "execution_count": null,
      "outputs": [
        {
          "output_type": "stream",
          "name": "stdout",
          "text": [
            "['Beo', 'Cendrawasih', 'Betet', 'Jalak', 'Gagak']\n"
          ]
        }
      ]
    },
    {
      "cell_type": "code",
      "source": [
        "def ganjil_genap(text):\n",
        "    if(len(text)%2==0):\n",
        "      print(\"Genap\")\n",
        "    else:\n",
        "      print(\"ganjil\")\n",
        "\n",
        "\n",
        "ganjil_genap(\"IlhamKurniawan\")"
      ],
      "metadata": {
        "colab": {
          "base_uri": "https://localhost:8080/"
        },
        "id": "4nfSsIrAmWyQ",
        "outputId": "888af9df-a3e6-46a0-d648-26bd3323231c"
      },
      "execution_count": null,
      "outputs": [
        {
          "output_type": "stream",
          "name": "stdout",
          "text": [
            "Genap\n"
          ]
        }
      ]
    },
    {
      "cell_type": "code",
      "source": [
        "def f(x,y):\n",
        "  A = x**2 + 25*y\n",
        "  print(A)\n",
        "\n",
        "\n",
        "f(4,1)\n"
      ],
      "metadata": {
        "colab": {
          "base_uri": "https://localhost:8080/"
        },
        "id": "27sIopSRrv4x",
        "outputId": "c6ca526a-d3d8-4a43-88e5-489749d1440b"
      },
      "execution_count": null,
      "outputs": [
        {
          "output_type": "stream",
          "name": "stdout",
          "text": [
            "41\n"
          ]
        }
      ]
    },
    {
      "cell_type": "code",
      "source": [
        "Nama_Reptil=('Komodo', 'Bunglon', 'Penyu', 'Biawak', 'Cicak')\n",
        "\n",
        "print (Nama_Reptil)\n"
      ],
      "metadata": {
        "colab": {
          "base_uri": "https://localhost:8080/"
        },
        "id": "MSI1Q1mtuEHl",
        "outputId": "fc869614-068a-4201-9d67-3cf454c78000"
      },
      "execution_count": null,
      "outputs": [
        {
          "output_type": "stream",
          "name": "stdout",
          "text": [
            "('Komodo', 'Bunglon', 'Penyu', 'Biawak', 'Cicak')\n"
          ]
        }
      ]
    },
    {
      "cell_type": "code",
      "source": [
        "def nama_cacah(nama):\n",
        "    reviseIndex = len(nama)\n",
        "    for i in range(reviseIndex):\n",
        "        if(i==0):\n",
        "            print(nama[0])\n",
        "        else:\n",
        "            reviseIndex -= 1\n",
        "            print(nama[reviseIndex])\n",
        "nama_cacah(\"Ilham\")"
      ],
      "metadata": {
        "colab": {
          "base_uri": "https://localhost:8080/"
        },
        "id": "0WS-LKUMuarD",
        "outputId": "49a0ce43-b7aa-47ac-e78a-518fb80918fb"
      },
      "execution_count": null,
      "outputs": [
        {
          "output_type": "stream",
          "name": "stdout",
          "text": [
            "I\n",
            "m\n",
            "a\n",
            "h\n",
            "l\n"
          ]
        }
      ]
    },
    {
      "cell_type": "code",
      "source": [
        "Benua={\"Eropa\": \"Spanyol\", \"Jerman\", \"Prancis\", \"Inggris\", \"Swiss\",\n",
        "       \"Asia\": \"Jepang\", \"Korsel\", \"Indonesia\", \"Malaysia\", \"Qatar\"}\n",
        "Benua[Eropa][Asia]=\n",
        "def cetak_indeks(i):"
      ],
      "metadata": {
        "id": "VDX3th7Zv_se"
      },
      "execution_count": null,
      "outputs": []
    },
    {
      "cell_type": "code",
      "source": [
        "def cek_prima(x):\n",
        "    if (x > 1):\n",
        "        for i in range(2,x):\n",
        "            if (x%i == 0):\n",
        "                print(str(x) + \"Bukan Bilangan Prima\")\n",
        "                break\n",
        "            else:\n",
        "              print(str(x) + \"Bilangan Prima\")\n",
        "    else:\n",
        "      print(str(x) + \"Bukan Bilangan Prima\")\n",
        "\n",
        "cek_prima(5)\n",
        ""
      ],
      "metadata": {
        "colab": {
          "base_uri": "https://localhost:8080/"
        },
        "id": "8nxxls2R3RMR",
        "outputId": "699790e5-f07b-487c-9a31-36529791c3ab"
      },
      "execution_count": null,
      "outputs": [
        {
          "output_type": "stream",
          "name": "stdout",
          "text": [
            "5Bilangan Prima\n",
            "5Bilangan Prima\n",
            "5Bilangan Prima\n"
          ]
        }
      ]
    },
    {
      "cell_type": "code",
      "source": [
        "x = 3\n",
        "while(1):\n",
        "    if(x == 0):\n",
        "        break\n",
        "    x -=3\n",
        "    print(\" \" + str(x))"
      ],
      "metadata": {
        "colab": {
          "base_uri": "https://localhost:8080/"
        },
        "id": "LmBdeODx5eNZ",
        "outputId": "3fe5a7fa-69d5-4f98-c030-4cbd0596bb32"
      },
      "execution_count": null,
      "outputs": [
        {
          "output_type": "stream",
          "name": "stdout",
          "text": [
            " 0\n"
          ]
        }
      ]
    },
    {
      "cell_type": "code",
      "source": [
        "parameters = 1e+1j #complex number\n",
        "def tipe_data_complex(x):\n",
        "    if(type(x)== type(parameters)):\n",
        "        print(\"complex\")\n",
        "    else:\n",
        "        print(\"bukan complex\")\n",
        "\n",
        "tipe_data_complex(1e+1j)\n",
        ""
      ],
      "metadata": {
        "colab": {
          "base_uri": "https://localhost:8080/"
        },
        "id": "ImUVx6eM6XLh",
        "outputId": "4106883a-7904-42df-9549-4a9557bcdeb3"
      },
      "execution_count": null,
      "outputs": [
        {
          "output_type": "stream",
          "name": "stdout",
          "text": [
            "complex\n"
          ]
        }
      ]
    },
    {
      "cell_type": "code",
      "source": [
        "def pangkat(n):\n",
        "    print(\"pangkat(\" + str(n) + \")\" + str (n**2))\n",
        "\n",
        "pangkat(-2)"
      ],
      "metadata": {
        "colab": {
          "base_uri": "https://localhost:8080/"
        },
        "id": "XAkW094D7LCU",
        "outputId": "a2be1120-83e8-4aa8-a4ce-ac41fe17bc1b"
      },
      "execution_count": null,
      "outputs": [
        {
          "output_type": "stream",
          "name": "stdout",
          "text": [
            "pangkat(-2)4\n"
          ]
        }
      ]
    },
    {
      "cell_type": "code",
      "source": [
        "jumlah = 0\n",
        "n= int (input (\"masukkan angka : \"))\n",
        "for k in range (1,n+1) :\n",
        "  print (k, end = \" \")\n",
        "  if k==n :\n",
        "    print (\"=\", end = \" \")\n",
        "  else :\n",
        "    print (\"+\", end = \" \")\n",
        "\n",
        "jumlah = jumlah + k\n",
        "print(jumlah)\n"
      ],
      "metadata": {
        "colab": {
          "base_uri": "https://localhost:8080/"
        },
        "id": "d2km4twHz4Ud",
        "outputId": "53547bf4-b07f-404b-bacf-650e93d9810f"
      },
      "execution_count": null,
      "outputs": [
        {
          "output_type": "stream",
          "name": "stdout",
          "text": [
            "masukkan angka : 3\n",
            "1 + 2 + 3 = 3\n"
          ]
        }
      ]
    },
    {
      "cell_type": "code",
      "source": [
        "Benua={\"Eropa\": [\"Spanyol\", \"Jerman\",\"Prancis\", \"Inggris\", \"Swiss\"],\n",
        " \"Asia\": [\"Jepang\", \"Korea Selatan\", \"Indonesia\", \"Malaysia\", \"Qatar\"],}\n",
        "Benua[\"Eropa\"][2]= \"Belgia!\"\n",
        "def cetak_indeks(i):\n",
        " print(Benua[\"Eropa\"][i])\n"
      ],
      "metadata": {
        "id": "122YZZwaBRfU"
      },
      "execution_count": null,
      "outputs": []
    },
    {
      "cell_type": "markdown",
      "source": [
        "# Responsi"
      ],
      "metadata": {
        "id": "q64rLlEG20Jc"
      }
    },
    {
      "cell_type": "code",
      "source": [
        "LZ=[1,2,3,4[3,5,7]];\n",
        "for i in (LZ)\n",
        "print (i)"
      ],
      "metadata": {
        "colab": {
          "base_uri": "https://localhost:8080/",
          "height": 131
        },
        "id": "s2atyJJW2503",
        "outputId": "f7be5bf8-f2b8-4d96-a813-e30a5bda2eae"
      },
      "execution_count": null,
      "outputs": [
        {
          "output_type": "error",
          "ename": "SyntaxError",
          "evalue": "ignored",
          "traceback": [
            "\u001b[0;36m  File \u001b[0;32m\"<ipython-input-6-65fb5064ca6e>\"\u001b[0;36m, line \u001b[0;32m2\u001b[0m\n\u001b[0;31m    for i in (LZ)\u001b[0m\n\u001b[0m                 ^\u001b[0m\n\u001b[0;31mSyntaxError\u001b[0m\u001b[0;31m:\u001b[0m invalid syntax\n"
          ]
        }
      ]
    },
    {
      "cell_type": "code",
      "source": [
        "d=4\n",
        "print('Age = '+d)\n",
        "\n"
      ],
      "metadata": {
        "colab": {
          "base_uri": "https://localhost:8080/",
          "height": 200
        },
        "id": "em6o0UGQ4mgx",
        "outputId": "f56c3e25-fe85-48a3-ebc4-c8cfe0d691ba"
      },
      "execution_count": null,
      "outputs": [
        {
          "output_type": "error",
          "ename": "TypeError",
          "evalue": "ignored",
          "traceback": [
            "\u001b[0;31m---------------------------------------------------------------------------\u001b[0m",
            "\u001b[0;31mTypeError\u001b[0m                                 Traceback (most recent call last)",
            "\u001b[0;32m<ipython-input-1-416432c6f2fd>\u001b[0m in \u001b[0;36m<module>\u001b[0;34m\u001b[0m\n\u001b[1;32m      1\u001b[0m \u001b[0md\u001b[0m\u001b[0;34m=\u001b[0m\u001b[0;36m4\u001b[0m\u001b[0;34m\u001b[0m\u001b[0;34m\u001b[0m\u001b[0m\n\u001b[0;32m----> 2\u001b[0;31m \u001b[0mprint\u001b[0m\u001b[0;34m(\u001b[0m\u001b[0;34m'Age = '\u001b[0m\u001b[0;34m+\u001b[0m\u001b[0md\u001b[0m\u001b[0;34m)\u001b[0m\u001b[0;34m\u001b[0m\u001b[0;34m\u001b[0m\u001b[0m\n\u001b[0m\u001b[1;32m      3\u001b[0m \u001b[0;34m\u001b[0m\u001b[0m\n",
            "\u001b[0;31mTypeError\u001b[0m: can only concatenate str (not \"int\") to str"
          ]
        }
      ]
    },
    {
      "cell_type": "code",
      "source": [
        "dividen =10\n",
        "divisor =0.5\n",
        "  if divisor !=0\n",
        "print (dividend, \"/\", divisor, \"=\" dividend/divisor)\n",
        "  else :\n",
        "    print(division by zero is not allowed)"
      ],
      "metadata": {
        "colab": {
          "base_uri": "https://localhost:8080/",
          "height": 131
        },
        "id": "ykNNHb68u-gr",
        "outputId": "44a4fe63-5a78-4b29-e57c-88d0679ef47d"
      },
      "execution_count": null,
      "outputs": [
        {
          "output_type": "error",
          "ename": "IndentationError",
          "evalue": "ignored",
          "traceback": [
            "\u001b[0;36m  File \u001b[0;32m\"<ipython-input-4-c323d42bffa8>\"\u001b[0;36m, line \u001b[0;32m3\u001b[0m\n\u001b[0;31m    if divisor !=0\u001b[0m\n\u001b[0m    ^\u001b[0m\n\u001b[0;31mIndentationError\u001b[0m\u001b[0;31m:\u001b[0m unexpected indent\n"
          ]
        }
      ]
    },
    {
      "cell_type": "code",
      "source": [
        "v = \"Riyanto\"\n",
        "print (for i in v)"
      ],
      "metadata": {
        "colab": {
          "base_uri": "https://localhost:8080/",
          "height": 131
        },
        "id": "ng2YOwJwwvLZ",
        "outputId": "986f6e49-14db-4a81-962f-cc78234c376f"
      },
      "execution_count": null,
      "outputs": [
        {
          "output_type": "error",
          "ename": "SyntaxError",
          "evalue": "ignored",
          "traceback": [
            "\u001b[0;36m  File \u001b[0;32m\"<ipython-input-6-1675ccb3e0cd>\"\u001b[0;36m, line \u001b[0;32m2\u001b[0m\n\u001b[0;31m    print (for i in v)\u001b[0m\n\u001b[0m             ^\u001b[0m\n\u001b[0;31mSyntaxError\u001b[0m\u001b[0;31m:\u001b[0m invalid syntax\n"
          ]
        }
      ]
    },
    {
      "cell_type": "code",
      "source": [
        "A=[1,2,3,4]\n",
        "B=[5,6,7,8]\n",
        "Num={\"a\":A, \"b\":B}\n",
        "A[2] = A[1] + B[3]\n",
        "print(Num[\"a\"])"
      ],
      "metadata": {
        "colab": {
          "base_uri": "https://localhost:8080/"
        },
        "id": "uS_Mbe5ixWwy",
        "outputId": "a2dfcd20-0121-4cfe-ccc4-609ddf11c9a6"
      },
      "execution_count": null,
      "outputs": [
        {
          "output_type": "stream",
          "name": "stdout",
          "text": [
            "[1, 2, 10, 4]\n"
          ]
        }
      ]
    },
    {
      "cell_type": "code",
      "source": [
        "def f(x,y):\n",
        "    hasil = (x**3)+(25*y)\n",
        "    return (hasil)\n",
        "print(f(5,5))\n"
      ],
      "metadata": {
        "colab": {
          "base_uri": "https://localhost:8080/"
        },
        "id": "6-cGzvwLBm4P",
        "outputId": "9512a0dc-ef20-44fb-bdfe-f189d0756610"
      },
      "execution_count": null,
      "outputs": [
        {
          "output_type": "stream",
          "name": "stdout",
          "text": [
            "250\n"
          ]
        }
      ]
    },
    {
      "cell_type": "code",
      "source": [
        "print (\"masukkan dua bilangan bulat\"\n",
        ")"
      ],
      "metadata": {
        "id": "S9q6GlAe_zdC"
      },
      "execution_count": null,
      "outputs": []
    },
    {
      "cell_type": "markdown",
      "source": [
        "# YEU\n"
      ],
      "metadata": {
        "id": "CLNcnFAaOMeg"
      }
    },
    {
      "cell_type": "code",
      "source": [
        "a = 10\n",
        "b = 20\n",
        "if (a > b);\n",
        "  print(\"greatest is \",a)\n",
        "else:\n",
        "  print(\"gretaest is \",b)"
      ],
      "metadata": {
        "colab": {
          "base_uri": "https://localhost:8080/",
          "height": 131
        },
        "id": "g3pTGt6DOTSw",
        "outputId": "82bd95f1-a854-4b99-e93c-f6001401a617"
      },
      "execution_count": null,
      "outputs": [
        {
          "output_type": "error",
          "ename": "SyntaxError",
          "evalue": "ignored",
          "traceback": [
            "\u001b[0;36m  File \u001b[0;32m\"<ipython-input-1-9dc063ee53ac>\"\u001b[0;36m, line \u001b[0;32m3\u001b[0m\n\u001b[0;31m    if (a > b);\u001b[0m\n\u001b[0m              ^\u001b[0m\n\u001b[0;31mSyntaxError\u001b[0m\u001b[0;31m:\u001b[0m invalid syntax\n"
          ]
        }
      ]
    },
    {
      "cell_type": "code",
      "source": [
        "a = 20\n",
        "b = 10\n",
        "res = a if a > b else b\n",
        "print(\"  nilai terbesar \", res)"
      ],
      "metadata": {
        "colab": {
          "base_uri": "https://localhost:8080/"
        },
        "id": "HEETYeFjO02P",
        "outputId": "ccf28087-1eab-4f74-e278-8ccea0ae57f1"
      },
      "execution_count": null,
      "outputs": [
        {
          "output_type": "stream",
          "name": "stdout",
          "text": [
            "  nilai terbesar  20\n"
          ]
        }
      ]
    },
    {
      "cell_type": "code",
      "source": [
        "class vehicle:\n",
        "    def __init__(self,NumOfTire,NumOfDoor):\n",
        "        self.NumOfTire=NumOfTire\n",
        "        self.NumOfDoor=NumOfDoor\n",
        "\n",
        "After statement \"SUVcar = vehicle(4,4)\" we issue a statement \"SUVcar.NumOfTire\""
      ],
      "metadata": {
        "colab": {
          "base_uri": "https://localhost:8080/",
          "height": 130
        },
        "id": "sl07QPcbU9Z8",
        "outputId": "8b9b1ab9-087c-4a6f-a51f-33ef5f4354e1"
      },
      "execution_count": null,
      "outputs": [
        {
          "output_type": "error",
          "ename": "SyntaxError",
          "evalue": "ignored",
          "traceback": [
            "\u001b[0;36m  File \u001b[0;32m\"<ipython-input-14-13351fab917c>\"\u001b[0;36m, line \u001b[0;32m6\u001b[0m\n\u001b[0;31m    After statement \"SUVcar = vehicle(4,4)\" we issue a statement \"SUVcar.NumOfTire\"\u001b[0m\n\u001b[0m          ^\u001b[0m\n\u001b[0;31mSyntaxError\u001b[0m\u001b[0;31m:\u001b[0m invalid syntax\n"
          ]
        }
      ]
    },
    {
      "cell_type": "code",
      "source": [
        "def sum(x,y):\n",
        "  op = x + y\n",
        "  return(op)\n",
        "  ss = Sum(5,10)\n",
        "  print(ss)"
      ],
      "metadata": {
        "id": "nDSw-KtuVamS"
      },
      "execution_count": null,
      "outputs": []
    },
    {
      "cell_type": "code",
      "source": [
        "import numpy as np\n",
        "import matplotlib.pyplot as plt\n",
        "var1=np.arange(5)\n",
        "plt.plot(var1)\n",
        "plt.show()"
      ],
      "metadata": {
        "colab": {
          "base_uri": "https://localhost:8080/",
          "height": 265
        },
        "id": "i1mnTHSlVrHC",
        "outputId": "1cd66fe8-44d1-4fa4-f78d-b3fa1718ccb6"
      },
      "execution_count": null,
      "outputs": [
        {
          "output_type": "display_data",
          "data": {
            "text/plain": [
              "<Figure size 432x288 with 1 Axes>"
            ],
            "image/png": "[encoded data removed]"
          },
          "metadata": {
            "needs_background": "light"
          }
        }
      ]
    },
    {
      "cell_type": "code",
      "source": [
        "Benua = \"Eropa\", \"Asia\", \"Antartika\", \"Australia\"\n",
        "print(Benua())"
      ],
      "metadata": {
        "colab": {
          "base_uri": "https://localhost:8080/",
          "height": 182
        },
        "id": "yxGr_0hEV_jw",
        "outputId": "f7bccd8f-0096-45bf-8bd9-605021a38471"
      },
      "execution_count": null,
      "outputs": [
        {
          "output_type": "error",
          "ename": "TypeError",
          "evalue": "ignored",
          "traceback": [
            "\u001b[0;31m---------------------------------------------------------------------------\u001b[0m",
            "\u001b[0;31mTypeError\u001b[0m                                 Traceback (most recent call last)",
            "\u001b[0;32m<ipython-input-6-af386c89b3d1>\u001b[0m in \u001b[0;36m<module>\u001b[0;34m\u001b[0m\n\u001b[1;32m      1\u001b[0m \u001b[0mBenua\u001b[0m \u001b[0;34m=\u001b[0m \u001b[0;34m\"Eropa\"\u001b[0m\u001b[0;34m,\u001b[0m \u001b[0;34m\"Asia\"\u001b[0m\u001b[0;34m,\u001b[0m \u001b[0;34m\"Antartika\"\u001b[0m\u001b[0;34m,\u001b[0m \u001b[0;34m\"Australia\"\u001b[0m\u001b[0;34m\u001b[0m\u001b[0;34m\u001b[0m\u001b[0m\n\u001b[0;32m----> 2\u001b[0;31m \u001b[0mprint\u001b[0m\u001b[0;34m(\u001b[0m\u001b[0mBenua\u001b[0m\u001b[0;34m(\u001b[0m\u001b[0;34m)\u001b[0m\u001b[0;34m)\u001b[0m\u001b[0;34m\u001b[0m\u001b[0;34m\u001b[0m\u001b[0m\n\u001b[0m",
            "\u001b[0;31mTypeError\u001b[0m: 'tuple' object is not callable"
          ]
        }
      ]
    },
    {
      "cell_type": "code",
      "source": [
        "import numpy as np\n",
        "import matplotlib.pyplot as plt\n",
        "var1=np.arange(0,20)\n",
        "var2=var1*2\n",
        "var3=var1*4\n",
        "plt.plot(var1,var2,label='var2')\n",
        "plt.plot(var1,var3,label='var3')\n",
        "plt.show()"
      ],
      "metadata": {
        "colab": {
          "base_uri": "https://localhost:8080/",
          "height": 265
        },
        "id": "IjMcooXsWnSK",
        "outputId": "5183e8cd-4b7d-438b-fda8-265a5de65049"
      },
      "execution_count": null,
      "outputs": [
        {
          "output_type": "display_data",
          "data": {
            "text/plain": [
              "<Figure size 432x288 with 1 Axes>"
            ],
            "image/png": "[encoded data removed]"
          },
          "metadata": {
            "needs_background": "light"
          }
        }
      ]
    },
    {
      "cell_type": "code",
      "source": [
        "class People:\n",
        "  a = 10\n",
        "  b = 20\n",
        "  john = People\n",
        "  john.a"
      ],
      "metadata": {
        "colab": {
          "base_uri": "https://localhost:8080/",
          "height": 339
        },
        "id": "QfbOyR_-XF4K",
        "outputId": "e37b1f59-ffe5-4cdf-85b3-db4a0c01d601"
      },
      "execution_count": null,
      "outputs": [
        {
          "output_type": "error",
          "ename": "NameError",
          "evalue": "ignored",
          "traceback": [
            "\u001b[0;31m---------------------------------------------------------------------------\u001b[0m",
            "\u001b[0;31mNameError\u001b[0m                                 Traceback (most recent call last)",
            "\u001b[0;32m<ipython-input-10-38ed0d9b1fc7>\u001b[0m in \u001b[0;36m<module>\u001b[0;34m\u001b[0m\n\u001b[0;32m----> 1\u001b[0;31m \u001b[0;32mclass\u001b[0m \u001b[0mPeople\u001b[0m\u001b[0;34m:\u001b[0m\u001b[0;34m\u001b[0m\u001b[0;34m\u001b[0m\u001b[0m\n\u001b[0m\u001b[1;32m      2\u001b[0m   \u001b[0ma\u001b[0m \u001b[0;34m=\u001b[0m \u001b[0;36m10\u001b[0m\u001b[0;34m\u001b[0m\u001b[0;34m\u001b[0m\u001b[0m\n\u001b[1;32m      3\u001b[0m   \u001b[0mb\u001b[0m \u001b[0;34m=\u001b[0m \u001b[0;36m20\u001b[0m\u001b[0;34m\u001b[0m\u001b[0;34m\u001b[0m\u001b[0m\n\u001b[1;32m      4\u001b[0m   \u001b[0mjohn\u001b[0m \u001b[0;34m=\u001b[0m \u001b[0mPeople\u001b[0m\u001b[0;34m\u001b[0m\u001b[0;34m\u001b[0m\u001b[0m\n\u001b[1;32m      5\u001b[0m   \u001b[0mjohn\u001b[0m\u001b[0;34m.\u001b[0m\u001b[0ma\u001b[0m\u001b[0;34m\u001b[0m\u001b[0;34m\u001b[0m\u001b[0m\n",
            "\u001b[0;32m<ipython-input-10-38ed0d9b1fc7>\u001b[0m in \u001b[0;36mPeople\u001b[0;34m()\u001b[0m\n\u001b[1;32m      2\u001b[0m   \u001b[0ma\u001b[0m \u001b[0;34m=\u001b[0m \u001b[0;36m10\u001b[0m\u001b[0;34m\u001b[0m\u001b[0;34m\u001b[0m\u001b[0m\n\u001b[1;32m      3\u001b[0m   \u001b[0mb\u001b[0m \u001b[0;34m=\u001b[0m \u001b[0;36m20\u001b[0m\u001b[0;34m\u001b[0m\u001b[0;34m\u001b[0m\u001b[0m\n\u001b[0;32m----> 4\u001b[0;31m   \u001b[0mjohn\u001b[0m \u001b[0;34m=\u001b[0m \u001b[0mPeople\u001b[0m\u001b[0;34m\u001b[0m\u001b[0;34m\u001b[0m\u001b[0m\n\u001b[0m\u001b[1;32m      5\u001b[0m   \u001b[0mjohn\u001b[0m\u001b[0;34m.\u001b[0m\u001b[0ma\u001b[0m\u001b[0;34m\u001b[0m\u001b[0;34m\u001b[0m\u001b[0m\n",
            "\u001b[0;31mNameError\u001b[0m: name 'People' is not defined"
          ]
        }
      ]
    },
    {
      "cell_type": "code",
      "source": [
        "class Mahasiswa:\n",
        "    def _init_(self, nama, nim, kelas):\n",
        "        self.nama = nama\n",
        "        self.nim = nim\n",
        "        self.kelas = kelas\n",
        "\n",
        "        print(\"Mhs.nama\")\n",
        "        print(self.nama)\n",
        "        print()\n",
        "        print(\"Mhs.nim\")\n",
        "        print(self.nim)\n",
        "        print()\n",
        "        print(\"Mhs.kelas\")\n",
        "        print(self.kelas)"
      ],
      "metadata": {
        "id": "mcGSUp3Bd-aZ"
      },
      "execution_count": null,
      "outputs": []
    },
    {
      "cell_type": "code",
      "source": [
        "def num(x, y):\n",
        "  return np.array([x, y]).dtype\n",
        "  Test = num(2, 3.3)\n",
        "  print(Test)"
      ],
      "metadata": {
        "id": "TVZ9M-gSgk4V"
      },
      "execution_count": null,
      "outputs": []
    },
    {
      "cell_type": "code",
      "source": [
        "import numpy as np\n",
        "import matplotlib.pyplot as plt\n",
        "var1=np.arange(0,20)\n",
        "var2=var1*2\n",
        "var3=var1*4\n",
        "plt.plot(var1,var2,label='var2')\n",
        "plt.plot(var1,var3,label='var3')\n",
        "plt.show()"
      ],
      "metadata": {
        "colab": {
          "base_uri": "https://localhost:8080/",
          "height": 265
        },
        "id": "b6MuVglUiqNC",
        "outputId": "0ae58ab4-051d-407d-a1cc-530edf0d8ac3"
      },
      "execution_count": null,
      "outputs": [
        {
          "output_type": "display_data",
          "data": {
            "text/plain": [
              "<Figure size 432x288 with 1 Axes>"
            ],
            "image/png": "[encoded data removed]"
          },
          "metadata": {
            "needs_background": "light"
          }
        }
      ]
    }
  ]
}