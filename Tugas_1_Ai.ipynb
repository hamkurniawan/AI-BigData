{
  "nbformat": 4,
  "nbformat_minor": 0,
  "metadata": {
    "colab": {
      "provenance": []
    },
    "kernelspec": {
      "name": "python3",
      "display_name": "Python 3"
    },
    "language_info": {
      "name": "python"
    }
  },
  "cells": [
    {
      "cell_type": "code",
      "execution_count": 6,
      "metadata": {
        "colab": {
          "base_uri": "https://localhost:8080/"
        },
        "id": "eK_pN0mxBud2",
        "outputId": "a1834f0b-13b3-4f68-9213-3a6d8d7e59df"
      },
      "outputs": [
        {
          "output_type": "execute_result",
          "data": {
            "text/plain": [
              "[[0, 1, 2], [3, 4]]"
            ]
          },
          "metadata": {},
          "execution_count": 6
        }
      ],
      "source": [
        " import numpy as np\n",
        " from sklearn.model_selection import train_test_split\n",
        " X, y = np.arange(10).reshape((5, 2)), range(5)\n",
        " X = np.array([[0, 1],\n",
        "       [2, 3],\n",
        "       [4, 5],\n",
        "       [6, 7],\n",
        "       [8, 9]])\n",
        " list(y) == [0, 1, 2, 3, 4]\n",
        " X_train, X_test, y_train, y_test = train_test_split(\n",
        "     X, y, test_size=0.33, random_state=42)\n",
        "\n",
        " X_train = np.array([[4, 5],\n",
        "       [0, 1],\n",
        "       [6, 7]])\n",
        " y_train =[2, 0, 3]\n",
        "X_test = np.array([[2, 3], [8, 9]])\n",
        "y_test = [1, 4]\n",
        " train_test_split(y, shuffle=False)\n",
        "[[0, 1, 2], [3, 4]]"
      ]
    }
  ]
}